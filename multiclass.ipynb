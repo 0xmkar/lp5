{
 "cells": [
  {
   "cell_type": "code",
   "execution_count": 6,
   "id": "11e4c819-cb88-41e7-aa7b-0706076700a4",
   "metadata": {},
   "outputs": [
    {
     "name": "stdout",
     "output_type": "stream",
     "text": [
      "Epoch 1/10\n",
      "450/450 [==============================] - 2s 2ms/step - loss: 1.8978 - accuracy: 0.4844 - val_loss: 1.1981 - val_accuracy: 0.6538\n",
      "Epoch 2/10\n",
      "450/450 [==============================] - 1s 1ms/step - loss: 1.0240 - accuracy: 0.7194 - val_loss: 0.9062 - val_accuracy: 0.7481\n",
      "Epoch 3/10\n",
      "450/450 [==============================] - 1s 1ms/step - loss: 0.8429 - accuracy: 0.7631 - val_loss: 0.7920 - val_accuracy: 0.7831\n",
      "Epoch 4/10\n",
      "450/450 [==============================] - 1s 2ms/step - loss: 0.7328 - accuracy: 0.7920 - val_loss: 0.7035 - val_accuracy: 0.8069\n",
      "Epoch 5/10\n",
      "450/450 [==============================] - 1s 1ms/step - loss: 0.6546 - accuracy: 0.8115 - val_loss: 0.6167 - val_accuracy: 0.8250\n",
      "Epoch 6/10\n",
      "450/450 [==============================] - 1s 1ms/step - loss: 0.5909 - accuracy: 0.8260 - val_loss: 0.6000 - val_accuracy: 0.8200\n",
      "Epoch 7/10\n",
      "450/450 [==============================] - 1s 1ms/step - loss: 0.5408 - accuracy: 0.8405 - val_loss: 0.5380 - val_accuracy: 0.8431\n",
      "Epoch 8/10\n",
      "450/450 [==============================] - 1s 1ms/step - loss: 0.4983 - accuracy: 0.8487 - val_loss: 0.5201 - val_accuracy: 0.8375\n",
      "Epoch 9/10\n",
      "450/450 [==============================] - 1s 2ms/step - loss: 0.4623 - accuracy: 0.8587 - val_loss: 0.4806 - val_accuracy: 0.8594\n",
      "Epoch 10/10\n",
      "450/450 [==============================] - 1s 2ms/step - loss: 0.4362 - accuracy: 0.8688 - val_loss: 0.4460 - val_accuracy: 0.8700\n",
      "125/125 [==============================] - 0s 1ms/step - loss: 0.4320 - accuracy: 0.8668\n",
      "Test Accuracy: 0.87\n"
     ]
    }
   ],
   "source": [
    "import numpy as np\n",
    "import pandas as pd\n",
    "from sklearn.model_selection import train_test_split\n",
    "from sklearn.preprocessing import LabelEncoder\n",
    "from tensorflow.keras.utils import to_categorical\n",
    "from tensorflow.keras.models import Sequential\n",
    "from tensorflow.keras.layers import Dense\n",
    "\n",
    "df = pd.read_csv('letter-recognition.csv')  # Make sure your file includes headers!\n",
    "\n",
    "X = df.drop('letter', axis=1).astype(float)  # Drop the 'letter' column, convert all others to float\n",
    "y = df['letter']\n",
    "\n",
    "label_encoder = LabelEncoder()\n",
    "y_encoded = label_encoder.fit_transform(y)\n",
    "y_categorical = to_categorical(y_encoded)\n",
    "\n",
    "X_train, X_test, y_train, y_test = train_test_split(X, y_categorical, test_size=0.2, random_state=42)\n",
    "\n",
    "model = Sequential([\n",
    "    Dense(64, activation='relu', input_shape=(X_train.shape[1],)),\n",
    "    Dense(64, activation='relu'),\n",
    "    Dense(26, activation='softmax')  # 26 letters A–Z\n",
    "])\n",
    "\n",
    "model.compile(optimizer='adam', loss='categorical_crossentropy', metrics=['accuracy'])\n",
    "\n",
    "model.fit(X_train, y_train, epochs=10, batch_size=32, validation_split=0.1)\n",
    "\n",
    "loss, accuracy = model.evaluate(X_test, y_test)\n",
    "print(f\"Test Accuracy: {accuracy:.2f}\")\n"
   ]
  },
  {
   "cell_type": "code",
   "execution_count": null,
   "id": "aa945904-af66-436b-8bdd-ed26e29d9a2b",
   "metadata": {},
   "outputs": [],
   "source": []
  }
 ],
 "metadata": {
  "kernelspec": {
   "display_name": "Python 3 (ipykernel)",
   "language": "python",
   "name": "python3"
  },
  "language_info": {
   "codemirror_mode": {
    "name": "ipython",
    "version": 3
   },
   "file_extension": ".py",
   "mimetype": "text/x-python",
   "name": "python",
   "nbconvert_exporter": "python",
   "pygments_lexer": "ipython3",
   "version": "3.10.12"
  }
 },
 "nbformat": 4,
 "nbformat_minor": 5
}
